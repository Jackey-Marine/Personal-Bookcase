{
 "cells": [
  {
   "cell_type": "code",
   "execution_count": 59,
   "metadata": {},
   "outputs": [],
   "source": [
    "from rich.console import Console\n",
    "from rich.table import Column, Table\n",
    "\n",
    "console = Console()"
   ]
  },
  {
   "cell_type": "code",
   "execution_count": 60,
   "metadata": {},
   "outputs": [
    {
     "data": {
      "text/html": [
       "<pre style=\"white-space:pre;overflow-x:auto;line-height:normal;font-family:Menlo,'DejaVu Sans Mono',consolas,'Courier New',monospace\">Hello World!\n",
       "</pre>\n"
      ],
      "text/plain": [
       "Hello World!\n"
      ]
     },
     "metadata": {},
     "output_type": "display_data"
    },
    {
     "data": {
      "text/html": [
       "<pre style=\"white-space:pre;overflow-x:auto;line-height:normal;font-family:Menlo,'DejaVu Sans Mono',consolas,'Courier New',monospace\"><span style=\"color: #800000; text-decoration-color: #800000; font-weight: bold\">Hello World!</span>\n",
       "</pre>\n"
      ],
      "text/plain": [
       "\u001b[1;31mHello World!\u001b[0m\n"
      ]
     },
     "metadata": {},
     "output_type": "display_data"
    },
    {
     "data": {
      "text/html": [
       "<pre style=\"white-space:pre;overflow-x:auto;line-height:normal;font-family:Menlo,'DejaVu Sans Mono',consolas,'Courier New',monospace\">Where there is a <span style=\"color: #008080; text-decoration-color: #008080; font-weight: bold\">Will</span> there <span style=\"text-decoration: underline\">is</span> a <span style=\"font-style: italic\">way</span>.\n",
       "</pre>\n"
      ],
      "text/plain": [
       "Where there is a \u001b[1;36mWill\u001b[0m there \u001b[4mis\u001b[0m a \u001b[3mway\u001b[0m.\n"
      ]
     },
     "metadata": {},
     "output_type": "display_data"
    },
    {
     "data": {
      "text/html": [
       "<pre style=\"white-space:pre;overflow-x:auto;line-height:normal;font-family:Menlo,'DejaVu Sans Mono',consolas,'Courier New',monospace\">😃 🧛 💩 👍 🦝\n",
       "</pre>\n"
      ],
      "text/plain": [
       "😃 🧛 💩 👍 🦝\n"
      ]
     },
     "metadata": {},
     "output_type": "display_data"
    }
   ],
   "source": [
    "console.print(\"Hello\", \"World!\")\n",
    "console.print(\"Hello\", \"World!\", style=\"bold red\")\n",
    "console.print(\"Where there is a [bold cyan]Will[/bold cyan] there [u]is[/u] a [i]way[/i].\")\n",
    "console.print(\":smiley: :vampire: :pile_of_poo: :thumbs_up: :raccoon:\")"
   ]
  },
  {
   "cell_type": "code",
   "execution_count": 61,
   "metadata": {},
   "outputs": [
    {
     "data": {
      "text/html": [
       "<pre style=\"white-space:pre;overflow-x:auto;line-height:normal;font-family:Menlo,'DejaVu Sans Mono',consolas,'Courier New',monospace\"><span style=\"color: #7fbfbf; text-decoration-color: #7fbfbf\">[11:13:06] </span>Hello from <span style=\"font-weight: bold\">&lt;</span><span style=\"color: #ff00ff; text-decoration-color: #ff00ff; font-weight: bold\">console</span><span style=\"color: #000000; text-decoration-color: #000000\"> </span><span style=\"color: #808000; text-decoration-color: #808000\">width</span><span style=\"color: #000000; text-decoration-color: #000000\">=</span><span style=\"color: #008080; text-decoration-color: #008080; font-weight: bold\">115</span><span style=\"color: #000000; text-decoration-color: #000000\"> ColorSystem.TRUECOLOR</span><span style=\"font-weight: bold\">&gt;</span> !                                  <a href=\"file://C:\\Users\\dfg\\AppData\\Local\\Temp\\ipykernel_8520\\1838712875.py\" target=\"_blank\"><span style=\"color: #7f7f7f; text-decoration-color: #7f7f7f\">1838712875.py</span></a><span style=\"color: #7f7f7f; text-decoration-color: #7f7f7f\">:</span><a href=\"file://C:\\Users\\dfg\\AppData\\Local\\Temp\\ipykernel_8520\\1838712875.py#13\" target=\"_blank\"><span style=\"color: #7f7f7f; text-decoration-color: #7f7f7f\">13</span></a>\n",
       "</pre>\n"
      ],
      "text/plain": [
       "\u001b[2;36m[11:13:06]\u001b[0m\u001b[2;36m \u001b[0mHello from \u001b[1m<\u001b[0m\u001b[1;95mconsole\u001b[0m\u001b[39m \u001b[0m\u001b[33mwidth\u001b[0m\u001b[39m=\u001b[0m\u001b[1;36m115\u001b[0m\u001b[39m ColorSystem.TRUECOLOR\u001b[0m\u001b[1m>\u001b[0m !                                  \u001b]8;id=73066;file://C:\\Users\\dfg\\AppData\\Local\\Temp\\ipykernel_8520\\1838712875.py\u001b\\\u001b[2m1838712875.py\u001b[0m\u001b]8;;\u001b\\\u001b[2m:\u001b[0m\u001b]8;id=251104;file://C:\\Users\\dfg\\AppData\\Local\\Temp\\ipykernel_8520\\1838712875.py#13\u001b\\\u001b[2m13\u001b[0m\u001b]8;;\u001b\\\n"
      ]
     },
     "metadata": {},
     "output_type": "display_data"
    },
    {
     "data": {
      "text/html": [
       "<pre style=\"white-space:pre;overflow-x:auto;line-height:normal;font-family:Menlo,'DejaVu Sans Mono',consolas,'Courier New',monospace\"><span style=\"color: #7fbfbf; text-decoration-color: #7fbfbf\">           </span><span style=\"font-weight: bold\">[</span>                                                                                       <a href=\"file://C:\\Users\\dfg\\AppData\\Local\\Temp\\ipykernel_8520\\1838712875.py\" target=\"_blank\"><span style=\"color: #7f7f7f; text-decoration-color: #7f7f7f\">1838712875.py</span></a><span style=\"color: #7f7f7f; text-decoration-color: #7f7f7f\">:</span><a href=\"file://C:\\Users\\dfg\\AppData\\Local\\Temp\\ipykernel_8520\\1838712875.py#14\" target=\"_blank\"><span style=\"color: #7f7f7f; text-decoration-color: #7f7f7f\">14</span></a>\n",
       "<span style=\"color: #7fbfbf; text-decoration-color: #7fbfbf\">           </span>    <span style=\"font-weight: bold\">{</span>                                                                                   <span style=\"color: #7f7f7f; text-decoration-color: #7f7f7f\">                </span>\n",
       "<span style=\"color: #7fbfbf; text-decoration-color: #7fbfbf\">           </span>        <span style=\"color: #008000; text-decoration-color: #008000\">'jsonrpc'</span>: <span style=\"color: #008000; text-decoration-color: #008000\">'2.0'</span>,                                                               <span style=\"color: #7f7f7f; text-decoration-color: #7f7f7f\">                </span>\n",
       "<span style=\"color: #7fbfbf; text-decoration-color: #7fbfbf\">           </span>        <span style=\"color: #008000; text-decoration-color: #008000\">'method'</span>: <span style=\"color: #008000; text-decoration-color: #008000\">'sum'</span>,                                                                <span style=\"color: #7f7f7f; text-decoration-color: #7f7f7f\">                </span>\n",
       "<span style=\"color: #7fbfbf; text-decoration-color: #7fbfbf\">           </span>        <span style=\"color: #008000; text-decoration-color: #008000\">'params'</span>: <span style=\"font-weight: bold\">[</span><span style=\"color: #800080; text-decoration-color: #800080; font-style: italic\">None</span>, <span style=\"color: #008080; text-decoration-color: #008080; font-weight: bold\">1</span>, <span style=\"color: #008080; text-decoration-color: #008080; font-weight: bold\">2</span>, <span style=\"color: #008080; text-decoration-color: #008080; font-weight: bold\">4</span>, <span style=\"color: #ff0000; text-decoration-color: #ff0000; font-style: italic\">False</span>, <span style=\"color: #00ff00; text-decoration-color: #00ff00; font-style: italic\">True</span><span style=\"font-weight: bold\">]</span>,                                         <span style=\"color: #7f7f7f; text-decoration-color: #7f7f7f\">                </span>\n",
       "<span style=\"color: #7fbfbf; text-decoration-color: #7fbfbf\">           </span>        <span style=\"color: #008000; text-decoration-color: #008000\">'id'</span>: <span style=\"color: #008000; text-decoration-color: #008000\">'1'</span>                                                                       <span style=\"color: #7f7f7f; text-decoration-color: #7f7f7f\">                </span>\n",
       "<span style=\"color: #7fbfbf; text-decoration-color: #7fbfbf\">           </span>    <span style=\"font-weight: bold\">}</span>,                                                                                  <span style=\"color: #7f7f7f; text-decoration-color: #7f7f7f\">                </span>\n",
       "<span style=\"color: #7fbfbf; text-decoration-color: #7fbfbf\">           </span>    <span style=\"font-weight: bold\">{</span><span style=\"color: #008000; text-decoration-color: #008000\">'jsonrpc'</span>: <span style=\"color: #008000; text-decoration-color: #008000\">'2.0'</span>, <span style=\"color: #008000; text-decoration-color: #008000\">'method'</span>: <span style=\"color: #008000; text-decoration-color: #008000\">'notify_hello'</span>, <span style=\"color: #008000; text-decoration-color: #008000\">'params'</span>: <span style=\"font-weight: bold\">[</span><span style=\"color: #008080; text-decoration-color: #008080; font-weight: bold\">7</span><span style=\"font-weight: bold\">]}</span>,                        <span style=\"color: #7f7f7f; text-decoration-color: #7f7f7f\">                </span>\n",
       "<span style=\"color: #7fbfbf; text-decoration-color: #7fbfbf\">           </span>    <span style=\"font-weight: bold\">{</span><span style=\"color: #008000; text-decoration-color: #008000\">'jsonrpc'</span>: <span style=\"color: #008000; text-decoration-color: #008000\">'2.0'</span>, <span style=\"color: #008000; text-decoration-color: #008000\">'method'</span>: <span style=\"color: #008000; text-decoration-color: #008000\">'subtract'</span>, <span style=\"color: #008000; text-decoration-color: #008000\">'params'</span>: <span style=\"font-weight: bold\">[</span><span style=\"color: #008080; text-decoration-color: #008080; font-weight: bold\">42</span>, <span style=\"color: #008080; text-decoration-color: #008080; font-weight: bold\">23</span><span style=\"font-weight: bold\">]</span>, <span style=\"color: #008000; text-decoration-color: #008000\">'id'</span>: <span style=\"color: #008000; text-decoration-color: #008000\">'2'</span><span style=\"font-weight: bold\">}</span>             <span style=\"color: #7f7f7f; text-decoration-color: #7f7f7f\">                </span>\n",
       "<span style=\"color: #7fbfbf; text-decoration-color: #7fbfbf\">           </span><span style=\"font-weight: bold\">]</span>                                                                                       <span style=\"color: #7f7f7f; text-decoration-color: #7f7f7f\">                </span>\n",
       "<span style=\"color: #7fbfbf; text-decoration-color: #7fbfbf\">           </span><span style=\"color: #000080; text-decoration-color: #000080\">╭──────────────────── </span><span style=\"color: #000080; text-decoration-color: #000080; font-style: italic\">locals</span><span style=\"color: #000080; text-decoration-color: #000080\"> ─────────────────────╮</span>                                     <span style=\"color: #7f7f7f; text-decoration-color: #7f7f7f\">                </span>\n",
       "<span style=\"color: #7fbfbf; text-decoration-color: #7fbfbf\">           </span><span style=\"color: #000080; text-decoration-color: #000080\">│</span> <span style=\"color: #808000; text-decoration-color: #808000; font-style: italic\">context</span><span style=\"color: #800000; text-decoration-color: #800000\"> =</span> <span style=\"font-weight: bold\">{</span><span style=\"color: #008000; text-decoration-color: #008000\">'foo'</span>: <span style=\"color: #008000; text-decoration-color: #008000\">'bar'</span><span style=\"font-weight: bold\">}</span>                        <span style=\"color: #000080; text-decoration-color: #000080\">│</span>                                     <span style=\"color: #7f7f7f; text-decoration-color: #7f7f7f\">                </span>\n",
       "<span style=\"color: #7fbfbf; text-decoration-color: #7fbfbf\">           </span><span style=\"color: #000080; text-decoration-color: #000080\">│</span> <span style=\"color: #808000; text-decoration-color: #808000; font-style: italic\">enabled</span><span style=\"color: #800000; text-decoration-color: #800000\"> =</span> <span style=\"color: #ff0000; text-decoration-color: #ff0000; font-style: italic\">False</span>                                 <span style=\"color: #000080; text-decoration-color: #000080\">│</span>                                     <span style=\"color: #7f7f7f; text-decoration-color: #7f7f7f\">                </span>\n",
       "<span style=\"color: #7fbfbf; text-decoration-color: #7fbfbf\">           </span><span style=\"color: #000080; text-decoration-color: #000080\">│</span>  <span style=\"color: #808000; text-decoration-color: #808000; font-style: italic\">movies</span><span style=\"color: #800000; text-decoration-color: #800000\"> =</span> <span style=\"font-weight: bold\">[</span><span style=\"color: #008000; text-decoration-color: #008000\">'Deadpool'</span>, <span style=\"color: #008000; text-decoration-color: #008000\">'Rise of the Skywalker'</span><span style=\"font-weight: bold\">]</span> <span style=\"color: #000080; text-decoration-color: #000080\">│</span>                                     <span style=\"color: #7f7f7f; text-decoration-color: #7f7f7f\">                </span>\n",
       "<span style=\"color: #7fbfbf; text-decoration-color: #7fbfbf\">           </span><span style=\"color: #000080; text-decoration-color: #000080\">╰─────────────────────────────────────────────────╯</span>                                     <span style=\"color: #7f7f7f; text-decoration-color: #7f7f7f\">                </span>\n",
       "</pre>\n"
      ],
      "text/plain": [
       "\u001b[2;36m          \u001b[0m\u001b[2;36m \u001b[0m\u001b[1m[\u001b[0m                                                                                       \u001b]8;id=130290;file://C:\\Users\\dfg\\AppData\\Local\\Temp\\ipykernel_8520\\1838712875.py\u001b\\\u001b[2m1838712875.py\u001b[0m\u001b]8;;\u001b\\\u001b[2m:\u001b[0m\u001b]8;id=731082;file://C:\\Users\\dfg\\AppData\\Local\\Temp\\ipykernel_8520\\1838712875.py#14\u001b\\\u001b[2m14\u001b[0m\u001b]8;;\u001b\\\n",
       "\u001b[2;36m           \u001b[0m    \u001b[1m{\u001b[0m                                                                                   \u001b[2m                \u001b[0m\n",
       "\u001b[2;36m           \u001b[0m        \u001b[32m'jsonrpc'\u001b[0m: \u001b[32m'2.0'\u001b[0m,                                                               \u001b[2m                \u001b[0m\n",
       "\u001b[2;36m           \u001b[0m        \u001b[32m'method'\u001b[0m: \u001b[32m'sum'\u001b[0m,                                                                \u001b[2m                \u001b[0m\n",
       "\u001b[2;36m           \u001b[0m        \u001b[32m'params'\u001b[0m: \u001b[1m[\u001b[0m\u001b[3;35mNone\u001b[0m, \u001b[1;36m1\u001b[0m, \u001b[1;36m2\u001b[0m, \u001b[1;36m4\u001b[0m, \u001b[3;91mFalse\u001b[0m, \u001b[3;92mTrue\u001b[0m\u001b[1m]\u001b[0m,                                         \u001b[2m                \u001b[0m\n",
       "\u001b[2;36m           \u001b[0m        \u001b[32m'id'\u001b[0m: \u001b[32m'1'\u001b[0m                                                                       \u001b[2m                \u001b[0m\n",
       "\u001b[2;36m           \u001b[0m    \u001b[1m}\u001b[0m,                                                                                  \u001b[2m                \u001b[0m\n",
       "\u001b[2;36m           \u001b[0m    \u001b[1m{\u001b[0m\u001b[32m'jsonrpc'\u001b[0m: \u001b[32m'2.0'\u001b[0m, \u001b[32m'method'\u001b[0m: \u001b[32m'notify_hello'\u001b[0m, \u001b[32m'params'\u001b[0m: \u001b[1m[\u001b[0m\u001b[1;36m7\u001b[0m\u001b[1m]\u001b[0m\u001b[1m}\u001b[0m,                        \u001b[2m                \u001b[0m\n",
       "\u001b[2;36m           \u001b[0m    \u001b[1m{\u001b[0m\u001b[32m'jsonrpc'\u001b[0m: \u001b[32m'2.0'\u001b[0m, \u001b[32m'method'\u001b[0m: \u001b[32m'subtract'\u001b[0m, \u001b[32m'params'\u001b[0m: \u001b[1m[\u001b[0m\u001b[1;36m42\u001b[0m, \u001b[1;36m23\u001b[0m\u001b[1m]\u001b[0m, \u001b[32m'id'\u001b[0m: \u001b[32m'2'\u001b[0m\u001b[1m}\u001b[0m             \u001b[2m                \u001b[0m\n",
       "\u001b[2;36m           \u001b[0m\u001b[1m]\u001b[0m                                                                                       \u001b[2m                \u001b[0m\n",
       "\u001b[2;36m           \u001b[0m\u001b[34m╭─\u001b[0m\u001b[34m───────────────────\u001b[0m\u001b[34m \u001b[0m\u001b[3;34mlocals\u001b[0m\u001b[34m \u001b[0m\u001b[34m────────────────────\u001b[0m\u001b[34m─╮\u001b[0m                                     \u001b[2m                \u001b[0m\n",
       "\u001b[2;36m           \u001b[0m\u001b[34m│\u001b[0m \u001b[3;33mcontext\u001b[0m\u001b[31m =\u001b[0m \u001b[1m{\u001b[0m\u001b[32m'foo'\u001b[0m: \u001b[32m'bar'\u001b[0m\u001b[1m}\u001b[0m                        \u001b[34m│\u001b[0m                                     \u001b[2m                \u001b[0m\n",
       "\u001b[2;36m           \u001b[0m\u001b[34m│\u001b[0m \u001b[3;33menabled\u001b[0m\u001b[31m =\u001b[0m \u001b[3;91mFalse\u001b[0m                                 \u001b[34m│\u001b[0m                                     \u001b[2m                \u001b[0m\n",
       "\u001b[2;36m           \u001b[0m\u001b[34m│\u001b[0m  \u001b[3;33mmovies\u001b[0m\u001b[31m =\u001b[0m \u001b[1m[\u001b[0m\u001b[32m'Deadpool'\u001b[0m, \u001b[32m'Rise of the Skywalker'\u001b[0m\u001b[1m]\u001b[0m \u001b[34m│\u001b[0m                                     \u001b[2m                \u001b[0m\n",
       "\u001b[2;36m           \u001b[0m\u001b[34m╰─────────────────────────────────────────────────╯\u001b[0m                                     \u001b[2m                \u001b[0m\n"
      ]
     },
     "metadata": {},
     "output_type": "display_data"
    }
   ],
   "source": [
    "test_data = [\n",
    "    {\"jsonrpc\": \"2.0\", \"method\": \"sum\", \"params\": [None, 1, 2, 4, False, True], \"id\": \"1\",},\n",
    "    {\"jsonrpc\": \"2.0\", \"method\": \"notify_hello\", \"params\": [7]},\n",
    "    {\"jsonrpc\": \"2.0\", \"method\": \"subtract\", \"params\": [42, 23], \"id\": \"2\"},\n",
    "]\n",
    "\n",
    "def test_log():\n",
    "    enabled = False\n",
    "    context = {\n",
    "        \"foo\": \"bar\",\n",
    "    }\n",
    "    movies = [\"Deadpool\", \"Rise of the Skywalker\"]\n",
    "    console.log(\"Hello from\", console, \"!\")\n",
    "    console.log(test_data, log_locals=True)\n",
    "\n",
    "\n",
    "test_log()"
   ]
  },
  {
   "cell_type": "code",
   "execution_count": 62,
   "metadata": {},
   "outputs": [
    {
     "data": {
      "text/html": [
       "<pre style=\"white-space:pre;overflow-x:auto;line-height:normal;font-family:Menlo,'DejaVu Sans Mono',consolas,'Courier New',monospace\">┏━━━━━━━━━━━━━━┳━━━━━━━━━━━━━━━━━━━━━━━━━━━━━━━━━━━┳━━━━━━━━━━━━━━━━━━━┳━━━━━━━━━━━━━━━━┓\n",
       "┃<span style=\"color: #800080; text-decoration-color: #800080; font-weight: bold\"> Date         </span>┃<span style=\"color: #800080; text-decoration-color: #800080; font-weight: bold\"> Title                             </span>┃<span style=\"color: #800080; text-decoration-color: #800080; font-weight: bold\"> Production Budget </span>┃<span style=\"color: #800080; text-decoration-color: #800080; font-weight: bold\">     Box Office </span>┃\n",
       "┡━━━━━━━━━━━━━━╇━━━━━━━━━━━━━━━━━━━━━━━━━━━━━━━━━━━╇━━━━━━━━━━━━━━━━━━━╇━━━━━━━━━━━━━━━━┩\n",
       "│<span style=\"color: #7f7f7f; text-decoration-color: #7f7f7f\"> Dev 20, 2019 </span>│ Star Wars: The Rise of Skywalker  │      $275,000,000 │   $375,126,118 │\n",
       "│<span style=\"color: #7f7f7f; text-decoration-color: #7f7f7f\"> May 25, 2018 </span>│ <span style=\"color: #800000; text-decoration-color: #800000\">Solo</span>: A Star Wars Story           │      $275,000,000 │   $393,151,347 │\n",
       "│<span style=\"color: #7f7f7f; text-decoration-color: #7f7f7f\"> Dec 15, 2017 </span>│ Star Wars Ep. VIII: The Last Jedi │      $262,000,000 │ <span style=\"font-weight: bold\">$1,332,539,889</span> │\n",
       "└──────────────┴───────────────────────────────────┴───────────────────┴────────────────┘\n",
       "</pre>\n"
      ],
      "text/plain": [
       "┏━━━━━━━━━━━━━━┳━━━━━━━━━━━━━━━━━━━━━━━━━━━━━━━━━━━┳━━━━━━━━━━━━━━━━━━━┳━━━━━━━━━━━━━━━━┓\n",
       "┃\u001b[1;35m \u001b[0m\u001b[1;35mDate        \u001b[0m\u001b[1;35m \u001b[0m┃\u001b[1;35m \u001b[0m\u001b[1;35mTitle                            \u001b[0m\u001b[1;35m \u001b[0m┃\u001b[1;35m \u001b[0m\u001b[1;35mProduction Budget\u001b[0m\u001b[1;35m \u001b[0m┃\u001b[1;35m \u001b[0m\u001b[1;35m    Box Office\u001b[0m\u001b[1;35m \u001b[0m┃\n",
       "┡━━━━━━━━━━━━━━╇━━━━━━━━━━━━━━━━━━━━━━━━━━━━━━━━━━━╇━━━━━━━━━━━━━━━━━━━╇━━━━━━━━━━━━━━━━┩\n",
       "│\u001b[2m \u001b[0m\u001b[2mDev 20, 2019\u001b[0m\u001b[2m \u001b[0m│ Star Wars: The Rise of Skywalker  │      $275,000,000 │   $375,126,118 │\n",
       "│\u001b[2m \u001b[0m\u001b[2mMay 25, 2018\u001b[0m\u001b[2m \u001b[0m│ \u001b[31mSolo\u001b[0m: A Star Wars Story           │      $275,000,000 │   $393,151,347 │\n",
       "│\u001b[2m \u001b[0m\u001b[2mDec 15, 2017\u001b[0m\u001b[2m \u001b[0m│ Star Wars Ep. VIII: The Last Jedi │      $262,000,000 │ \u001b[1m$1,332,539,889\u001b[0m │\n",
       "└──────────────┴───────────────────────────────────┴───────────────────┴────────────────┘\n"
      ]
     },
     "metadata": {},
     "output_type": "display_data"
    }
   ],
   "source": [
    "table = Table(show_header=True, header_style=\"bold magenta\")\n",
    "table.add_column(\"Date\", style=\"dim\", width=12)\n",
    "table.add_column(\"Title\")\n",
    "table.add_column(\"Production Budget\", justify=\"right\")\n",
    "table.add_column(\"Box Office\", justify=\"right\")\n",
    "table.add_row(\n",
    "    \"Dev 20, 2019\", \"Star Wars: The Rise of Skywalker\", \"$275,000,000\", \"$375,126,118\"\n",
    ")\n",
    "table.add_row(\n",
    "    \"May 25, 2018\",\n",
    "    \"[red]Solo[/red]: A Star Wars Story\",\n",
    "    \"$275,000,000\",\n",
    "    \"$393,151,347\",\n",
    ")\n",
    "table.add_row(\n",
    "    \"Dec 15, 2017\",\n",
    "    \"Star Wars Ep. VIII: The Last Jedi\",\n",
    "    \"$262,000,000\",\n",
    "    \"[bold]$1,332,539,889[/bold]\",\n",
    ")\n",
    "\n",
    "console.print(table)"
   ]
  }
 ],
 "metadata": {
  "kernelspec": {
   "display_name": "Python 3.9.7 ('base')",
   "language": "python",
   "name": "python3"
  },
  "language_info": {
   "codemirror_mode": {
    "name": "ipython",
    "version": 3
   },
   "file_extension": ".py",
   "mimetype": "text/x-python",
   "name": "python",
   "nbconvert_exporter": "python",
   "pygments_lexer": "ipython3",
   "version": "3.9.7"
  },
  "orig_nbformat": 4,
  "vscode": {
   "interpreter": {
    "hash": "1b589881d81d6ac91e63a84ad52e0f0747c809ea74ea67ba24435fac99529088"
   }
  }
 },
 "nbformat": 4,
 "nbformat_minor": 2
}
